{
  "nbformat": 4,
  "nbformat_minor": 0,
  "metadata": {
    "colab": {
      "provenance": [],
      "authorship_tag": "ABX9TyNCV/bRqxwDKB3S128nUbfn",
      "include_colab_link": true
    },
    "kernelspec": {
      "name": "python3",
      "display_name": "Python 3"
    },
    "language_info": {
      "name": "python"
    }
  },
  "cells": [
    {
      "cell_type": "markdown",
      "metadata": {
        "id": "view-in-github",
        "colab_type": "text"
      },
      "source": [
        "<a href=\"https://colab.research.google.com/github/IOB57/HH/blob/main/Untitled0_hh.ipynb\" target=\"_parent\"><img src=\"https://colab.research.google.com/assets/colab-badge.svg\" alt=\"Open In Colab\"/></a>"
      ]
    },
    {
      "cell_type": "code",
      "execution_count": null,
      "metadata": {
        "id": "fwnnkb4cqjMP"
      },
      "outputs": [],
      "source": [
        "import pandas as pd\n",
        "import numpy as np"
      ]
    },
    {
      "cell_type": "code",
      "source": [
        "melb_df = pd.read_csv('C:/Users/IO/Documents/skillfactory/dst-3.0_16_1_hh_database.csv', sep=';')"
      ],
      "metadata": {
        "id": "SW1WGclsqmsn"
      },
      "execution_count": null,
      "outputs": []
    },
    {
      "cell_type": "code",
      "source": [
        "#display(melb_df.isnull())\n",
        "cols_null_percent = melb_df.isnull().mean() * 100\n",
        "cols_with_null = cols_null_percent[cols_null_percent>0].sort_values(ascending=False)\n",
        "display(cols_with_null)"
      ],
      "metadata": {
        "id": "2XNZWZTFqocG"
      },
      "execution_count": null,
      "outputs": []
    },
    {
      "cell_type": "code",
      "source": [
        "# Количество уникальных значений в столбце 'column1'\n",
        "unique_count = melb_df['Опыт работы'].nunique()\n",
        "print(f\"Количество уникальных значений в столбце 'column1': {unique_count}\")"
      ],
      "metadata": {
        "id": "vGn4_z2PqqB-"
      },
      "execution_count": null,
      "outputs": []
    },
    {
      "cell_type": "code",
      "source": [
        "melb_df.sort_values(by='Ищет работу на должность:').head(10)"
      ],
      "metadata": {
        "id": "13fOaW3xqsW9"
      },
      "execution_count": null,
      "outputs": []
    },
    {
      "cell_type": "code",
      "source": [
        "display(melb_df.describe())"
      ],
      "metadata": {
        "id": "gST8_Gdhquz7"
      },
      "execution_count": null,
      "outputs": []
    },
    {
      "cell_type": "code",
      "source": [
        "def get_education(arg):\n",
        "    arg = ' '.join(arg.split(' ')[:3])\n",
        "    if 'Высшее' in arg:\n",
        "        return 'высшее'\n",
        "    elif 'Неоконченное высшее' in arg:\n",
        "        return 'неоконченное высшее'\n",
        "    elif 'Среднее специальное' in arg:\n",
        "        return 'среднее специальное'\n",
        "    elif 'Среднее образование' in arg:\n",
        "        return 'среднее'\n",
        "melb_df['Образование'] = melb_df['Образование и ВУЗ'].apply(get_education)\n",
        "melb_df = melb_df.drop('Образование и ВУЗ', axis=1)\n",
        "print(melb_df['Образование'].value_counts()['среднее'])"
      ],
      "metadata": {
        "id": "zC06X6v9qxAW"
      },
      "execution_count": null,
      "outputs": []
    },
    {
      "cell_type": "code",
      "source": [
        "def get_sex(arg):\n",
        "    if 'Мужчина' in arg:\n",
        "        return 'М'\n",
        "    else:\n",
        "        return 'Ж'\n",
        "\n",
        "def get_age(arg):\n",
        "    arg_splitted = arg.split(' ')\n",
        "    year_words=['год', 'года', 'лет']\n",
        "    for index, item in enumerate (arg_splitted):\n",
        "        if item in year_words:\n",
        "            return int(arg_splitted[index-1])\n",
        "\n",
        "data['Пол'] = data['Пол, возраст'].apply(get_sex)\n",
        "data['Возраст'] = data['Пол, возраст'].apply(get_age)\n",
        "data = data.drop('Пол, возраст', axis=1)\n",
        "\n",
        "print(round(data['Пол'].value_counts(normalize=True)['Ж'] * 100, 2))\n",
        "print(round(data['Возраст'].mean(), 2))"
      ],
      "metadata": {
        "id": "uftvV2Qfqzia"
      },
      "execution_count": null,
      "outputs": []
    },
    {
      "cell_type": "code",
      "source": [
        "duplicates = melb_df[melb_df.duplicated(subset=melb_df.columns)]\n",
        "melb_df = melb_df.drop_duplicates()\n",
        "print(duplicates.shape[0])"
      ],
      "metadata": {
        "id": "B0a5d54jq2-j"
      },
      "execution_count": null,
      "outputs": []
    },
    {
      "cell_type": "code",
      "source": [
        "missing_values = melb_df.isnull().sum()\n",
        "\n",
        "# Вывод количества пропусков в столбце \"Опыт работы (месяц)\"\n",
        "experience_missing = missing_values['Опыт работы']\n",
        "print(f\"Количество пропусков в столбце 'Опыт работы (месяц)': {experience_missing}\")"
      ],
      "metadata": {
        "id": "Gn4xCT7Sq43N"
      },
      "execution_count": null,
      "outputs": []
    },
    {
      "cell_type": "code",
      "source": [
        "null_data =  melb_df.isnull().sum()\n",
        "display(null_data[null_data > 0])"
      ],
      "metadata": {
        "id": "IKXhUZyHq6zE"
      },
      "execution_count": null,
      "outputs": []
    },
    {
      "cell_type": "code",
      "source": [
        "import pandas as pd\n",
        "import re\n",
        "import numpy as np\n",
        "\n",
        "def extract_experience(text):\n",
        "    # Use regex to find years and months\n",
        "    years = 0\n",
        "    months = 0\n",
        "\n",
        "    # Look for years in the format 'X лет' or 'X год'\n",
        "    year_match = re.search(r'(\\d+)\\s*лет|(\\d+)\\s*год', text)\n",
        "    if year_match:\n",
        "        years = int(year_match.group(1) or year_match.group(2))\n",
        "\n",
        "    # Look for months in the format 'X месяцев'\n",
        "    month_match = re.search(r'(\\d+)\\s*месяцев?', text)\n",
        "    if month_match:\n",
        "        months = int(month_match.group(1))\n",
        "\n",
        "    # Convert total experience to months (years * 12 + months)\n",
        "    total_months = years * 12 + months\n",
        "    return total_months\n",
        "\n",
        "# Apply the function to extract experience in months\n",
        "data2 = melb_df.dropna(subset=['Последнее/нынешнее место работы', 'Последняя/нынешняя должность'])\n",
        "data2['Опыт работы'] = data2['Опыт работы'].apply(lambda x: extract_experience(str(x)) if isinstance(x, str) else np.nan)\n",
        "\n",
        "# Fill missing values in 'Опыт работы' with the median\n",
        "data2['Опыт работы'] = data2['Опыт работы'].fillna(data2['Опыт работы'].median())\n",
        "\n",
        "# Print the rounded mean of the 'Опыт работы' column\n",
        "print(round(data2['Опыт работы'].mean()))"
      ],
      "metadata": {
        "id": "qNi_iRy4q-l8"
      },
      "execution_count": null,
      "outputs": []
    },
    {
      "cell_type": "code",
      "source": [
        "data = melb_df.dropna(subset=['Последнее/нынешнее место работы', 'Последняя/нынешняя должность'])\n",
        "\n",
        "# Проверяем столбец \"Опыт работы\" на наличие данных\n",
        "if data['Опыт работы'].notna().any():\n",
        "    # Заменяем пропуски медианой, если есть данные\n",
        "    data['Опыт работы'] = data['Опыт работы'].fillna(data['Опыт работы'].median())\n",
        "else:\n",
        "    # Заменяем пропуски значением по умолчанию, если данных нет\n",
        "    data['Опыт работы'] = data['Опыт работы'].fillna(0)\n",
        "\n",
        "# Вычисляем и выводим среднее значение\n",
        "mean_experience = data['Опыт работы'].mean()\n",
        "print(f\"Среднее значение опыта работы: {round(mean_experience)} месяцев\")"
      ],
      "metadata": {
        "id": "UZTAUTgzq_kR"
      },
      "execution_count": null,
      "outputs": []
    },
    {
      "cell_type": "code",
      "source": [
        "def get_experience(arg):\n",
        "    if arg is np.nan or arg == 'Не указано':\n",
        "        return None\n",
        "    year_words=['год', 'года', 'лет']\n",
        "    month_words=['месяц', 'месяца', 'месяцев']\n",
        "    arg_splitted = arg.split(' ')[:7]\n",
        "    years = 0\n",
        "    months = 0\n",
        "    for index, item in enumerate (arg_splitted):\n",
        "        if item in year_words:\n",
        "            years = int(arg_splitted[index-1])\n",
        "        if item in month_words:\n",
        "            months = int(arg_splitted[index-1])\n",
        "    return int(years*12 + months)\n",
        "melb_df['Опыт работы (месяц)'] = melb_df['Опыт работы'].apply(get_experience)\n",
        "#data = data.drop('Опыт работы', axis=1)\n",
        "print(round(melb_df['Опыт работы (месяц)'].median()))"
      ],
      "metadata": {
        "id": "HZz20W6IrB7V"
      },
      "execution_count": null,
      "outputs": []
    },
    {
      "cell_type": "code",
      "source": [
        "# Извлечение города\n",
        "melb_df['Город'] = melb_df['Город, переезд, командировки'].str.split(',').str[0].str.strip()\n",
        "\n",
        "# Подсчет количества соискателей из Санкт-Петербурга\n",
        "total_candidates = len(melb_df)\n",
        "spb_candidates = len(melb_df[melb_df['Город'] == 'Санкт-Петербург'])\n",
        "\n",
        "# Вычисление процента\n",
        "spb_percentage = round((spb_candidates / total_candidates) * 100)\n",
        "print(f\"Процент соискателей из Санкт-Петербурга: {spb_percentage}%\")"
      ],
      "metadata": {
        "id": "8nfxK1_urGe6"
      },
      "execution_count": null,
      "outputs": []
    },
    {
      "cell_type": "code",
      "source": [
        "ready_for_both = melb_df['Город, переезд, командировки'].str.contains('готов к переезду') & \\\n",
        "                 melb_df['Город, переезд, командировки'].str.contains('готов к командировкам')\n",
        "\n",
        "# Подсчет процентов\n",
        "percentage = round((ready_for_both.sum() / len(melb_df)) * 100)\n",
        "print(f\"Процент соискателей, готовых и к переездам, и к командировкам: {percentage}%\")"
      ],
      "metadata": {
        "id": "lv_ysk2LrI00"
      },
      "execution_count": null,
      "outputs": []
    },
    {
      "cell_type": "code",
      "source": [
        "def get_city(arg):\n",
        "    million_cities = ['Новосибирск', 'Екатеринбург', 'Нижний Новгород',\n",
        "                      'Казань', 'Челябинск', 'Омск', 'Самара', 'Ростов-на-Дону',\n",
        "                      'Уфа', 'Красноярск', 'Пермь', 'Воронеж', 'Волгоград'\n",
        "                     ]\n",
        "    city = arg.split(' , ')[0]\n",
        "    if (city == 'Москва') or (city == 'Санкт-Петербург'):\n",
        "        return city\n",
        "    elif city in million_cities:\n",
        "        return 'город миллионник'\n",
        "    else:\n",
        "        return 'другие'\n",
        "\n",
        "def get_ready_to_move(arg):\n",
        "    if ('не готов к переезду' in arg) or ('не готова к переезду' in arg):\n",
        "        return False\n",
        "    elif 'хочу' in arg:\n",
        "        return True\n",
        "    else:\n",
        "        return True\n",
        "\n",
        "def get_ready_for_bisiness_trips(arg):\n",
        "    if ('командировка' in arg):\n",
        "        if ('не готов к командировкам' in arg) or('не готова к командировкам' in arg):\n",
        "            return False\n",
        "        else:\n",
        "\n",
        "            return True\n",
        "    else:\n",
        "        return False\n",
        "\n",
        "melb_df['Город'] = melb_df['Город, переезд, командировки'].apply(get_city)\n",
        "melb_df['Готовность к переезду'] = melb_df['Город, переезд, командировки'].apply(get_ready_to_move)\n",
        "melb_df['Готовность к командировкам'] = melb_df['Город, переезд, командировки'].apply(get_ready_for_bisiness_trips)\n",
        "melb_df = melb_df.drop('Город, переезд, командировки', axis=1)\n",
        "print(round(melb_df['Город'].value_counts(normalize=True)['Санкт-Петербург'] * 100))\n",
        "print(round(melb_df[\n",
        "    melb_df['Готовность к переезду'] & melb_df['Готовность к командировкам']\n",
        "].shape[0] / melb_df.shape[0] *100))"
      ],
      "metadata": {
        "id": "hoR_LeOUrKmJ"
      },
      "execution_count": null,
      "outputs": []
    },
    {
      "cell_type": "code",
      "source": [
        "employments = ['полная занятость', 'частичная занятость',\n",
        "              'проектная работа', 'волонтерство', 'стажировка']\n",
        "charts = ['полный день', 'сменный график',\n",
        "         'гибкий график', 'удаленная работа',\n",
        "         'вахтовый метод']\n",
        "for employment, chart in zip(employments, charts):\n",
        "    melb_df[employment] = melb_df['Занятость'].apply(lambda x: employment in x)\n",
        "    melb_df[chart] = melb_df['График'].apply(lambda x: chart in x)\n",
        "melb_df = melb_df.drop('Занятость', axis=1)\n",
        "melb_df = melb_df.drop('График', axis=1)\n",
        "print(melb_df[melb_df['проектная работа'] & melb_df['волонтерство']].shape[0])\n",
        "print(melb_df[melb_df['вахтовый метод'] & melb_df['гибкий график']].shape[0])"
      ],
      "metadata": {
        "id": "nEg4OnfCrOWY"
      },
      "execution_count": null,
      "outputs": []
    },
    {
      "cell_type": "code",
      "source": [
        "def get_salary_num(arg):\n",
        "    salary = float(arg.split(' ')[0])\n",
        "    return salary\n",
        "\n",
        "def get_salary_currency(arg):\n",
        "    currency_dict = {\n",
        "        'USD': 'USD', 'KZT': 'KZT',\n",
        "        'грн': 'UAH', 'белруб': 'BYN',\n",
        "        'EUR': 'EUR', 'KGS': 'KGS',\n",
        "        'сум': 'UZS', 'AZN': 'AZN'\n",
        "    }\n",
        "    curr = arg.split(' ')[1].replace('.', '')\n",
        "    if curr == 'руб':\n",
        "        return 'RUB'\n",
        "    else:\n",
        "        return currency_dict[curr]\n",
        "\n",
        "rates = pd.read_csv('C:/Users/IO/Documents/skillfactory/ExchangeRates/ExchangeRates.csv')\n",
        "rates['date'] = pd.to_datetime(rates['date'], dayfirst=True).dt.date\n",
        "data['Обновление резюме'] = pd.to_datetime(data['Обновление резюме'], dayfirst=True).dt.date\n",
        "data['ЗП (tmp)'] = data['ЗП'].apply(get_salary_num)\n",
        "data['Курс (tmp)'] = data['ЗП'].apply(get_salary_currency)\n",
        "merged = data.merge(\n",
        "    rates,\n",
        "    left_on=['Курс (tmp)', 'Обновление резюме'],\n",
        "    right_on=['currency', 'date',],\n",
        "    how='left'\n",
        ")\n",
        "merged['close'] = merged['close'].fillna(1)\n",
        "merged['proportion'] = merged['proportion'].fillna(1)\n",
        "data['ЗП (руб)'] = merged['close'] * merged['ЗП (tmp)'] / merged['proportion']\n",
        "data = data.drop(['ЗП', 'ЗП (tmp)', 'Курс (tmp)'], axis=1)\n",
        "print(round(data['ЗП (руб)'].median()/1000))"
      ],
      "metadata": {
        "id": "-_InF6OFrRBt"
      },
      "execution_count": null,
      "outputs": []
    },
    {
      "cell_type": "code",
      "source": [
        "def get_sex(arg):\n",
        "    if 'Мужчина' in arg:\n",
        "        return 'М'\n",
        "    else:\n",
        "        return 'Ж'\n",
        "\n",
        "def get_age(arg):\n",
        "    arg_splitted = arg.split(' ')\n",
        "    year_words=['год', 'года', 'лет']\n",
        "    for index, item in enumerate (arg_splitted):\n",
        "        if item in year_words:\n",
        "            return int(arg_splitted[index-1])\n",
        "\n",
        "data['Пол'] = data['Пол, возраст'].apply(get_sex)\n",
        "data['Возраст'] = data['Пол, возраст'].apply(get_age)\n",
        "data = data.drop('Пол, возраст', axis=1)\n",
        "\n",
        "print(round(data['Пол'].value_counts(normalize=True)['Ж'] * 100, 2))\n",
        "print(round(data['Возраст'].mean(), 2))"
      ],
      "metadata": {
        "id": "F_Eidx_prVjy"
      },
      "execution_count": null,
      "outputs": []
    },
    {
      "cell_type": "code",
      "source": [
        "import pandas as pd\n",
        "import matplotlib.pyplot as plt\n",
        "import seaborn as sns\n"
      ],
      "metadata": {
        "id": "U-fUOSXRrXxP"
      },
      "execution_count": null,
      "outputs": []
    },
    {
      "cell_type": "code",
      "source": [
        "plt.figure(figsize=(10, 6))\n",
        "sns.histplot(data['Возраст'], bins=20, kde=True, color='blue')\n",
        "plt.title('Распределение возраста соискателей')\n",
        "plt.xlabel('Возраст')\n",
        "plt.ylabel('Частота')\n",
        "plt.show()\n",
        "\n",
        "# Вычисления\n",
        "mode_age = data['Возраст'].mode()[0]  # Мода\n",
        "min_age = data['Возраст'].min()       # Минимальное значение\n",
        "max_age = data['Возраст'].max()       # Максимальное значение\n",
        "\n",
        "# Интервал большинства значений\n",
        "quantiles = data['Возраст'].quantile([0.25, 0.75])\n",
        "iqr = quantiles[0.75] - quantiles[0.25]  # Межквартильный размах\n",
        "lower_bound = quantiles[0.25] - 1.5 * iqr\n",
        "upper_bound = quantiles[0.75] + 1.5 * iqr\n",
        "\n",
        "# Аномалии\n",
        "outliers = data[(data['Возраст'] < lower_bound) | (data['Возраст'] > upper_bound)]\n",
        "\n",
        "# Результаты\n",
        "print(f\"Мода распределения: {mode_age}\")\n",
        "print(f\"Минимальный возраст: {min_age}, максимальный возраст: {max_age}\")\n",
        "print(f\"Интервал большинства значений: {quantiles[0.25]} - {quantiles[0.75]}\")\n",
        "print(f\"Аномалии (выход за пределы {lower_bound} - {upper_bound}): {outliers['Возраст'].tolist()}\")"
      ],
      "metadata": {
        "id": "xIPwKPXirZpq"
      },
      "execution_count": null,
      "outputs": []
    },
    {
      "cell_type": "code",
      "source": [
        "print(data['Опыт работы'].dtype)  # Проверяет тип данных\n",
        "print(data['Опыт работы'].head())  # Вывод первых 5 значений"
      ],
      "metadata": {
        "id": "yhiH5H0SrcRu"
      },
      "execution_count": null,
      "outputs": []
    },
    {
      "cell_type": "code",
      "source": [
        "data['Опыт работы'] = pd.to_numeric(data['Опыт работы'], errors='coerce') #Приведение строки к числовому типу"
      ],
      "metadata": {
        "id": "Ur2kObtHre6V"
      },
      "execution_count": null,
      "outputs": []
    },
    {
      "cell_type": "code",
      "source": [
        "max_experience = data['Опыт работы'].max()\n",
        "print(f\"Максимальный опыт работы: {max_experience}\")"
      ],
      "metadata": {
        "id": "B74FTiIBrgul"
      },
      "execution_count": null,
      "outputs": []
    },
    {
      "cell_type": "code",
      "source": [
        "fig = data.histogram(\n",
        "    data_frame=data,\n",
        "    x='Опыт работы (месяц)',\n",
        "    title='Распределение опыта работы соискателей',\n",
        "    histnorm='percent',\n",
        "    width=500,\n",
        "    marginal='box',\n",
        ")\n",
        "fig.show()"
      ],
      "metadata": {
        "id": "cuI0dt-NriNI"
      },
      "execution_count": null,
      "outputs": []
    },
    {
      "cell_type": "code",
      "source": [
        "def salary_get(arg):\n",
        "    pass\n",
        "\n",
        "#data['ЗП'] = data['ЗП'].apply(salary_get)\n",
        "\n",
        "plt.figure(figsize=(12, 5))\n",
        "sns.histplot(melb_df['ЗП'], bins=20, kde=True, color='blue')\n",
        "plt.title('Распределение ЗП соискателей')\n",
        "plt.xlabel('ЗП')\n",
        "plt.ylabel('Частота')\n",
        "plt.show()\n",
        "\n",
        "# Вычисления\n",
        "mode_age = melb_df['ЗП'].mode()[0]  # Мода\n",
        "min_age = melb_df['ЗП'].min()       # Минимальное значение\n",
        "max_age = melb_df['ЗП'].max()       # Максимальное значение\n",
        "\n",
        "# Интервал большинства значений\n",
        "quantiles = melb_df['ЗП'].quantile([0.25, 0.75])\n",
        "iqr = quantiles[0.75] - quantiles[0.25]  # Межквартильный размах\n",
        "lower_bound = quantiles[0.25] - 1.5 * iqr\n",
        "upper_bound = quantiles[0.75] + 1.5 * iqr\n",
        "\n",
        "# Аномалии\n",
        "outliers = melb_df[(melb_df['ЗП'] < lower_bound) | (melb_df['ЗП'] > upper_bound)]\n",
        "\n",
        "# Результаты\n",
        "print(f\"Мода распределения: {mode_age}\")\n",
        "print(f\"Минимальная ЗП: {min_age}, максимальная ЗП: {max_age}\")\n",
        "print(f\"Интервал большинства значений: {quantiles[0.25]} - {quantiles[0.75]}\")\n",
        "print(f\"Аномалии (выход за пределы {lower_bound} - {upper_bound}): {outliers['ЗП'].tolist()}\")"
      ],
      "metadata": {
        "id": "JAHHOEklrkZO"
      },
      "execution_count": null,
      "outputs": []
    },
    {
      "cell_type": "code",
      "source": [
        "max_salary = melb_df['ЗП'].max()\n",
        "quantiles = melb_df['ЗП'].quantile([0.25, 0.75])\n",
        "iqr = quantiles[0.75] - quantiles[0.25]\n",
        "lower_bound = quantiles[0.25] - 1.5 * iqr\n",
        "upper_bound = quantiles[0.75] + 1.5 * iqr\n",
        "\n",
        "print(f\"Максимальная ЗП: {max_salary}\")\n",
        "print(f\"Квартильный размах: {iqr}\")\n",
        "print(f\"Границы выбросов: {lower_bound} - {upper_bound}\")"
      ],
      "metadata": {
        "id": "0siheCUorm3F"
      },
      "execution_count": null,
      "outputs": []
    },
    {
      "cell_type": "code",
      "source": [
        "max_salary = melb_df['ЗП'].max()\n",
        "quantiles = melb_df['ЗП'].quantile([0.25, 0.75])\n",
        "iqr = quantiles[0.75] - quantiles[0.25]\n",
        "lower_bound = quantiles[0.25] - 1.5 * iqr\n",
        "upper_bound = quantiles[0.75] + 1.5 * iqr\n",
        "\n",
        "print(f\"Максимальная ЗП: {max_salary}\")\n",
        "print(f\"Квартильный размах: {iqr}\")\n",
        "print(f\"Границы выбросов: {lower_bound} - {upper_bound}\")"
      ],
      "metadata": {
        "id": "VSp-pWOSrphG"
      },
      "execution_count": null,
      "outputs": []
    },
    {
      "cell_type": "code",
      "source": [
        "fig = px.histogram(\n",
        "    data_frame=data,\n",
        "    x='ЗП (руб)',\n",
        "    title='Распределение желаемой з/п соискателей',\n",
        "    histnorm='percent',\n",
        "    width=500,\n",
        "    marginal='box'\n",
        ")\n",
        "fig.show()"
      ],
      "metadata": {
        "id": "5UyOHHqjrtKK"
      },
      "execution_count": null,
      "outputs": []
    },
    {
      "cell_type": "code",
      "source": [
        "fig, ax = plt.subplots(1, 1, figsize=(8, 4))\n",
        "log_age = np.log(data['Возраст'] + 1)\n",
        "histplot = sns.histplot(log_age, bins=30, ax=ax)\n",
        "histplot.axvline(log_age.mean(), color='k', lw=2)\n",
        "histplot.axvline(log_age.mean()+ 4 *log_age.std(), color='k', ls='--', lw=2)\n",
        "histplot.axvline(log_age.mean()- 3 *log_age.std(), color='k', ls='--', lw=2)\n",
        "histplot.set_title('Log Age Distribution');\n",
        "\n",
        "def outliers_z_score_mod(data, feature, left=3, right=3, log_scale=False):\n",
        "    if log_scale:\n",
        "        x = np.log(data[feature]+1)\n",
        "    else:\n",
        "        x = data[feature]\n",
        "    mu = x.mean()\n",
        "    sigma = x.std()\n",
        "    lower_bound = mu - left * sigma\n",
        "    upper_bound = mu + right * sigma\n",
        "    outliers = data[(x < lower_bound) | (x > upper_bound)]\n",
        "    cleaned = data[(x >= lower_bound) & (x <= upper_bound)]\n",
        "    return outliers, cleaned\n",
        "outliers, cleaned_data = outliers_z_score_mod(data, 'Возраст', left=3,  right=4, log_scale=True)"
      ],
      "metadata": {
        "id": "N-ffqVz7ru95"
      },
      "execution_count": null,
      "outputs": []
    }
  ]
}